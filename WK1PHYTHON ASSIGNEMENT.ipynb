{
 "cells": [
  {
   "cell_type": "markdown",
   "id": "97844537-820f-4a80-a325-f894f6ee2260",
   "metadata": {},
   "source": [
    "Q1. Create one variable containing following type of data:\n",
    "(i) string\n",
    "(ii) list\n",
    "(iii) float\n",
    "(iv) tuple\n"
   ]
  },
  {
   "cell_type": "code",
   "execution_count": 1,
   "id": "4f8c3808-c856-40aa-b3eb-91b287f0cc27",
   "metadata": {},
   "outputs": [],
   "source": [
    "my_string = \"Hello, World!\"\n"
   ]
  },
  {
   "cell_type": "code",
   "execution_count": 3,
   "id": "6fb16d50-13ce-4374-ae76-6792e8e720c9",
   "metadata": {},
   "outputs": [
    {
     "data": {
      "text/plain": [
       "'Hello, World!'"
      ]
     },
     "execution_count": 3,
     "metadata": {},
     "output_type": "execute_result"
    }
   ],
   "source": [
    "my_string "
   ]
  },
  {
   "cell_type": "code",
   "execution_count": 4,
   "id": "825fc583-3ad2-4318-9b4b-36eda6d92088",
   "metadata": {},
   "outputs": [],
   "source": [
    "my_list = [1, 2, 3, \"four\", 5.0]\n"
   ]
  },
  {
   "cell_type": "code",
   "execution_count": 5,
   "id": "89a387e4-13ed-40cd-b63f-f544d6456361",
   "metadata": {},
   "outputs": [
    {
     "data": {
      "text/plain": [
       "[1, 2, 3, 'four', 5.0]"
      ]
     },
     "execution_count": 5,
     "metadata": {},
     "output_type": "execute_result"
    }
   ],
   "source": [
    "my_list"
   ]
  },
  {
   "cell_type": "code",
   "execution_count": 6,
   "id": "1143d566-f300-4d7d-bbda-436250081967",
   "metadata": {},
   "outputs": [],
   "source": [
    "my_float = 3.14159\n"
   ]
  },
  {
   "cell_type": "code",
   "execution_count": 7,
   "id": "dc3d0b29-be6c-4c73-9155-158d7145ca31",
   "metadata": {},
   "outputs": [
    {
     "data": {
      "text/plain": [
       "3.14159"
      ]
     },
     "execution_count": 7,
     "metadata": {},
     "output_type": "execute_result"
    }
   ],
   "source": [
    "my_float"
   ]
  },
  {
   "cell_type": "code",
   "execution_count": 8,
   "id": "c8fa40dd-24b7-41a1-a194-7c55e84bf2e8",
   "metadata": {},
   "outputs": [],
   "source": [
    "my_tuple = (\"apple\", \"banana\", \"cherry\")\n"
   ]
  },
  {
   "cell_type": "code",
   "execution_count": 9,
   "id": "8cc6c650-246c-4fdf-ab82-eb50fe5c4557",
   "metadata": {},
   "outputs": [
    {
     "data": {
      "text/plain": [
       "('apple', 'banana', 'cherry')"
      ]
     },
     "execution_count": 9,
     "metadata": {},
     "output_type": "execute_result"
    }
   ],
   "source": [
    "my_tuple"
   ]
  },
  {
   "cell_type": "markdown",
   "id": "1a6a15ca-c968-40d1-80f0-8a57a805b6fa",
   "metadata": {},
   "source": [
    "Q2. Given are some following variables containing data:\n",
    "(i) var1 = ‘ ‘\n",
    "(ii) var2 = ‘[ DS , ML , Python]’\n",
    "(iii) var3 = [ ‘DS’ , ’ML’ , ‘Python’ ]\n",
    "(iv) var4 = 1.\n",
    "What will be the data type of the above given variable."
   ]
  },
  {
   "cell_type": "markdown",
   "id": "d4b5fe03-e26f-4d30-8add-ee649cfe2e37",
   "metadata": {},
   "source": [
    "\n",
    "The data types of the given variables are:\n",
    "\n",
    "(i) var1 is a string data type.\n",
    "(ii) var2 is also a string data type because it is enclosed in quotes.\n",
    "(iii) var3 is a list data type.\n",
    "(iv) var4 is a float data type.\n",
    "\n",
    "Note that the square brackets in var2 are interpreted as characters within a string, not as a list. To create a list, the items should be separated by commas and enclosed in square brackets, as in var3.\n",
    "\n",
    "\n",
    "\n",
    "\n",
    "\n",
    "\n"
   ]
  },
  {
   "cell_type": "markdown",
   "id": "865d15a9-d1e2-41e4-8467-e1a111939214",
   "metadata": {},
   "source": [
    "Q3. Explain the use of the following operators using an example:\n",
    "(i) /\n",
    "(ii) %\n",
    "(iii) //\n",
    "(iv) **"
   ]
  },
  {
   "cell_type": "markdown",
   "id": "7d3f2fa4-19cb-4845-b830-82956b370e6e",
   "metadata": {},
   "source": [
    "(i) / operator is the division operator in Python. It returns the quotient of the division operation as a float data type.\n",
    "(ii) % operator is the modulo operator in Python. It returns the remainder of the division operation.\n",
    "(iii) // operator is the floor division operator in Python. It returns the quotient of the division operation as an integer data type, rounded down to the nearest whole number.\n",
    "(iv) ** operator is the exponentiation operator in Python. It returns the result of raising the left operand to the power of the right operand. \n",
    "\n"
   ]
  },
  {
   "cell_type": "code",
   "execution_count": 19,
   "id": "fb868dcf-e504-4b50-9cec-2ca8b0043e1d",
   "metadata": {},
   "outputs": [
    {
     "data": {
      "text/plain": [
       "1.5"
      ]
     },
     "execution_count": 19,
     "metadata": {},
     "output_type": "execute_result"
    }
   ],
   "source": [
    "a=3\n",
    "b=2\n",
    "a/b"
   ]
  },
  {
   "cell_type": "code",
   "execution_count": 20,
   "id": "8d5d0e34-40c5-4784-a684-0eeef94ea894",
   "metadata": {},
   "outputs": [
    {
     "data": {
      "text/plain": [
       "1"
      ]
     },
     "execution_count": 20,
     "metadata": {},
     "output_type": "execute_result"
    }
   ],
   "source": [
    "a%b"
   ]
  },
  {
   "cell_type": "code",
   "execution_count": null,
   "id": "89f10d69-5a70-479b-9a2d-82b4adbf0761",
   "metadata": {},
   "outputs": [],
   "source": []
  },
  {
   "cell_type": "code",
   "execution_count": 21,
   "id": "e25baadb-a52e-439f-8c86-8e1d291c4b25",
   "metadata": {},
   "outputs": [
    {
     "data": {
      "text/plain": [
       "1"
      ]
     },
     "execution_count": 21,
     "metadata": {},
     "output_type": "execute_result"
    }
   ],
   "source": [
    "a//b"
   ]
  },
  {
   "cell_type": "code",
   "execution_count": 23,
   "id": "1e16f277-3336-4314-aa9e-4caf8af45ec0",
   "metadata": {},
   "outputs": [
    {
     "data": {
      "text/plain": [
       "9"
      ]
     },
     "execution_count": 23,
     "metadata": {},
     "output_type": "execute_result"
    }
   ],
   "source": [
    "a**b"
   ]
  },
  {
   "cell_type": "code",
   "execution_count": 2,
   "id": "8f499420-7e87-4c13-b4ea-d007d428e913",
   "metadata": {},
   "outputs": [
    {
     "name": "stdout",
     "output_type": "stream",
     "text": [
      "1 is of type <class 'int'>\n",
      "hello is of type <class 'str'>\n",
      "3.14 is of type <class 'float'>\n",
      "True is of type <class 'bool'>\n",
      "a is of type <class 'str'>\n",
      "[1, 2, 3] is of type <class 'list'>\n",
      "{'name': 'John', 'age': 25} is of type <class 'dict'>\n",
      "None is of type <class 'NoneType'>\n",
      "(4, 5, 6) is of type <class 'tuple'>\n",
      "{8, 9, 7} is of type <class 'set'>\n"
     ]
    }
   ],
   "source": [
    "####4)Create a list of length 10 of your choice containing multiple types of data. \n",
    "###Using for loop print the element and its data type.\n",
    "\n",
    "my_list = [1, \"hello\", 3.14, True, 'a', [1, 2, 3], {\"name\": \"John\", \"age\": 25}, None, (4, 5, 6), {7, 8, 9}]\n",
    "for item in my_list:\n",
    "    print(f\"{item} is of type {type(item)}\")\n"
   ]
  },
  {
   "cell_type": "code",
   "execution_count": 3,
   "id": "7d4bd144-a779-4245-bb54-2b4ad6bcb530",
   "metadata": {},
   "outputs": [
    {
     "name": "stdin",
     "output_type": "stream",
     "text": [
      "Enter number A:  20\n",
      "Enter number B:  2\n"
     ]
    },
    {
     "name": "stdout",
     "output_type": "stream",
     "text": [
      "5.0 is divisible by 2 for 2 times\n"
     ]
    }
   ],
   "source": [
    "### Q5. Using a while loop, verify if the number A is purely divisible by number B and if so then how many\n",
    "#### times it can be divisible.\n",
    "# Taking input of two numbers\n",
    "A = int(input(\"Enter number A: \"))\n",
    "B = int(input(\"Enter number B: \"))\n",
    "\n",
    "# Initializing a counter variable to count the number of times A is divisible by B\n",
    "count = 0\n",
    "\n",
    "# Checking if A is divisible by B\n",
    "while A % B == 0:\n",
    "    count += 1  # Incrementing the counter variable\n",
    "    A = A / B   # Updating the value of A\n",
    "\n",
    "# Printing the result\n",
    "if count > 0:\n",
    "    print(f\"{A} is divisible by {B} for {count} times\")\n",
    "else:\n",
    "    print(f\"{A} is not divisible by {B}\")\n"
   ]
  },
  {
   "cell_type": "code",
   "execution_count": 1,
   "id": "57e47077-fe79-44d1-bd34-dc4be29bdd06",
   "metadata": {},
   "outputs": [
    {
     "name": "stdout",
     "output_type": "stream",
     "text": [
      "1 is not divisible by 3\n",
      "2 is not divisible by 3\n",
      "3 is divisible by 3\n",
      "4 is not divisible by 3\n",
      "5 is not divisible by 3\n",
      "6 is divisible by 3\n",
      "7 is not divisible by 3\n",
      "8 is not divisible by 3\n",
      "9 is divisible by 3\n",
      "10 is not divisible by 3\n",
      "11 is not divisible by 3\n",
      "12 is divisible by 3\n",
      "13 is not divisible by 3\n",
      "14 is not divisible by 3\n",
      "15 is divisible by 3\n",
      "16 is not divisible by 3\n",
      "17 is not divisible by 3\n",
      "18 is divisible by 3\n",
      "19 is not divisible by 3\n",
      "20 is not divisible by 3\n",
      "21 is divisible by 3\n",
      "22 is not divisible by 3\n",
      "23 is not divisible by 3\n",
      "24 is divisible by 3\n",
      "25 is not divisible by 3\n"
     ]
    }
   ],
   "source": [
    "#### Q6. Create a list containing 25 int type data. Using for loop and if-else condition print if the element is\n",
    "#### divisible by 3 or not.\n",
    "\n",
    "# Creating a list of 25 integers\n",
    "my_list = [1, 2, 3, 4, 5, 6, 7, 8, 9, 10, 11, 12, 13, 14, 15, 16, 17, 18, 19, 20, 21, 22, 23, 24, 25]\n",
    "\n",
    "# Using a for loop and if-else condition to check if each element is divisible by 3 or not\n",
    "for item in my_list:\n",
    "    if item % 3 == 0:\n",
    "        print(f\"{item} is divisible by 3\")\n",
    "    else:\n",
    "        print(f\"{item} is not divisible by 3\")\n"
   ]
  },
  {
   "cell_type": "code",
   "execution_count": 3,
   "id": "4f7ac47b-0160-409d-a358-9d142721531e",
   "metadata": {},
   "outputs": [
    {
     "name": "stdout",
     "output_type": "stream",
     "text": [
      "10\n",
      "5\n"
     ]
    }
   ],
   "source": [
    "### Q7. What do you understand about mutable and immutable data types? Give examples for both showing\n",
    "## this property.\n",
    "##Mutable data types are those that can be changed after they are created. \n",
    "##If you modify a mutable object, the original object is modified (without creating a new object).\n",
    "##Examples of mutable data types include lists, sets, and dictionaries. Here's an example:\n",
    "\n",
    "# Example of an immutable data type (integer)\n",
    "a = 5\n",
    "b = a  # creating a new reference to the same object\n",
    "a = 10 # modifying a new object\n",
    "print(a) # Output: 10\n",
    "print(b) # Output: 5 (unchanged)\n"
   ]
  },
  {
   "cell_type": "raw",
   "id": "ab2abe50-9cb1-467b-9bbb-484ca1c3533a",
   "metadata": {},
   "source": [
    "In this example, a is assigned the value of 5, which is an integer (an immutable data type). We then create a new reference to the same object by assigning it to b. After that, a is reassigned a new value of 10 (which creates a new object in memory). When we print a and b, we see that a is now 10, while b remains unchanged at 5."
   ]
  },
  {
   "cell_type": "raw",
   "id": "4f2cc5b6-1c48-4733-9f9d-8266c76219ea",
   "metadata": {},
   "source": [
    "Mutable data types are those that can be changed after they are created. If you modify a mutable object, the original object is modified (without creating a new object). Examples of mutable data types include lists, sets, and dictionaries. Here's an example:\n"
   ]
  },
  {
   "cell_type": "code",
   "execution_count": 7,
   "id": "cf6745e6-55bd-4807-a3ed-86de62208499",
   "metadata": {},
   "outputs": [
    {
     "name": "stdout",
     "output_type": "stream",
     "text": [
      "[1, 2, 3]\n",
      "[1, 2, 3, 4]\n"
     ]
    }
   ],
   "source": [
    "# Example of a mutable data type (list)\n",
    "lst = [1, 2, 3]\n",
    "print(lst) # Output: [1, 2, 3]\n",
    "lst.append(4)\n",
    "print(lst) # Output: [1, 2, 3, 4] (modified)\n"
   ]
  },
  {
   "cell_type": "code",
   "execution_count": null,
   "id": "a59d2633-718d-4352-ac0e-7c651d64a72a",
   "metadata": {},
   "outputs": [],
   "source": []
  }
 ],
 "metadata": {
  "kernelspec": {
   "display_name": "Python 3 (ipykernel)",
   "language": "python",
   "name": "python3"
  },
  "language_info": {
   "codemirror_mode": {
    "name": "ipython",
    "version": 3
   },
   "file_extension": ".py",
   "mimetype": "text/x-python",
   "name": "python",
   "nbconvert_exporter": "python",
   "pygments_lexer": "ipython3",
   "version": "3.10.8"
  }
 },
 "nbformat": 4,
 "nbformat_minor": 5
}
